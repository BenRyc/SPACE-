{
 "cells": [
  {
   "cell_type": "markdown",
   "id": "0773433c",
   "metadata": {},
   "source": [
    "# Predicting Melbourne House Prices\n",
    "## Phase 2: Statistical Modelling"
   ]
  },
  {
   "cell_type": "markdown",
   "id": "d704ad9a",
   "metadata": {},
   "source": [
    "#### Group Name:\n",
    "\n",
    "#### Name(s) & ID(s) of Group Members:\n",
    "\n",
    "#### "
   ]
  },
  {
   "cell_type": "markdown",
   "id": "34ad87ce",
   "metadata": {},
   "source": [
    "## Table of Contents\n",
    "- [Introduction](#intro)\n",
    "- [Statistical Modelling](#sm)\n",
    "- [Critique & Limitations](#cl)\n",
    "- [Summary & Conclusions](#sc)"
   ]
  },
  {
   "cell_type": "markdown",
   "id": "fa57a106",
   "metadata": {},
   "source": [
    "## Introduction <a id='intro'></a>"
   ]
  },
  {
   "cell_type": "markdown",
   "id": "c44eb8e3",
   "metadata": {},
   "source": [
    "### Phase 1 Summary"
   ]
  },
  {
   "cell_type": "markdown",
   "id": "c799c271",
   "metadata": {},
   "source": [
    "A brief yet complete and accurate summary of the work conducted for your Phase 1 report and how they relate to your Phase 2 report. \n",
    "\n",
    "**Important Phase 2 Note:** Please do NOT include your Phase 1 report or its contents with your Phase 2 submissions. You can, however, make some changes with your Phase 1 tasks if you need to, and then ONLY include these changes with your Phase 2 report with some explanation for these changes."
   ]
  },
  {
   "cell_type": "markdown",
   "id": "99860a67",
   "metadata": {},
   "source": [
    "### Report Overview"
   ]
  },
  {
   "cell_type": "markdown",
   "id": "e70a9bcc",
   "metadata": {},
   "source": [
    "A complete and accurate overview of the contents of your Phase 2 report. Clarification: A Table of Contents is not a report overview."
   ]
  },
  {
   "cell_type": "markdown",
   "id": "1d94a0e5",
   "metadata": {},
   "source": [
    "### Overview of Methodology"
   ]
  },
  {
   "cell_type": "markdown",
   "id": "89e432d3",
   "metadata": {},
   "source": [
    "A detailed, complete, and accurate overview of your statistical modelling methodology (which is multiple linear regression). More specifically, in this subsection, you will provide a summary of your \"Statistical Modelling\" section below."
   ]
  },
  {
   "cell_type": "markdown",
   "id": "74723056",
   "metadata": {},
   "source": [
    "## Statistical Modelling <a id='sm'></a>"
   ]
  },
  {
   "cell_type": "markdown",
   "id": "6a5d3206",
   "metadata": {},
   "source": [
    "(Statistical Modelling Section: Details of assumptions check, model selection, plots of residuals, and technical analysis of regression results.)\n",
    "\n",
    "**NOTE:** The second half of [this](https://github.com/akmand/stats_tutorials/blob/main/regression_case_study_predicting_age_in_census_data.ipynb) regression case study (\"Statistical Modeling and Performance Evaluation\" Section) will be **very helpful** for this section."
   ]
  },
  {
   "cell_type": "markdown",
   "id": "8163a802",
   "metadata": {},
   "source": [
    "### Full Model Overview"
   ]
  },
  {
   "cell_type": "markdown",
   "id": "ae5ed672",
   "metadata": {},
   "source": [
    "Overview of your full model, including the variables and terms you are using in your model."
   ]
  },
  {
   "cell_type": "markdown",
   "id": "69d938f8",
   "metadata": {},
   "source": [
    "#### Module Imports"
   ]
  },
  {
   "cell_type": "code",
   "execution_count": 24,
   "id": "bda62bd3",
   "metadata": {},
   "outputs": [],
   "source": [
    "import numpy as np\n",
    "import pandas as pd\n",
    "import matplotlib.pyplot as plt\n",
    "import seaborn as sns\n",
    "import statsmodels.api as sm\n",
    "import statsmodels.formula.api as smf\n",
    "import patsy\n",
    "\n",
    "\n",
    "import warnings\n",
    "warnings.filterwarnings('ignore')\n",
    "\n",
    "pd.set_option('display.max_columns', None) \n",
    "\n",
    "%matplotlib inline \n",
    "%config InlineBackend.figure_format = 'retina'\n",
    "plt.style.use(\"ggplot\")\n",
    "\n",
    "df = pd.read_csv(\"https://raw.githubusercontent.com/BenRyc/SPACE-/main/orbitDistNoLim.csv\")"
   ]
  },
  {
   "cell_type": "markdown",
   "id": "323abd15",
   "metadata": {},
   "source": [
    "### Data Procesing \n",
    "Here we proces the data like we did in the Phase one so that it is ready for the modeling "
   ]
  },
  {
   "cell_type": "code",
   "execution_count": 25,
   "id": "a1b1e372",
   "metadata": {},
   "outputs": [],
   "source": [
    "rad = df.dropna(subset=['pl_rade', 'pl_radeerr1', 'pl_radeerr2'])\n",
    "mass = df.dropna(subset=['pl_masse', 'pl_masseerr1', 'pl_masseerr2'])\n",
    "dens = df.dropna(subset=['pl_dens', 'pl_denserr1', 'pl_denserr2'])\n",
    "orbeccen = df.dropna(subset=['pl_orbeccen', 'pl_orbeccenerr1', 'pl_orbeccenerr2'])\n",
    "insol = df.dropna(subset=['pl_insol', 'pl_insolerr1', 'pl_insolerr2'])\n",
    "eqt = df.dropna(subset=['pl_eqt', 'pl_eqterr1', 'pl_eqterr2'])\n",
    "teff = df.dropna(subset=['st_teff', 'st_tefferr1', 'st_tefferr2'])\n",
    "radst = df.dropna(subset=['st_rad', 'st_raderr1', 'st_raderr2'])\n",
    "massst = df.dropna(subset=['st_mass', 'st_masserr1', 'st_masserr2'])\n",
    "met = df.dropna(subset=['st_met', 'st_meterr1', 'st_meterr2'])\n",
    "agest = df.dropna(subset=['st_age', 'st_ageerr1', 'st_ageerr2'])\n",
    "\n",
    "# 3 verables \n",
    "\n",
    "massDens = df.dropna(subset=['pl_masse', 'pl_masseerr1', 'pl_masseerr2', 'pl_dens', 'pl_denserr1', 'pl_denserr2'])\n",
    "insolEqt = df.dropna(subset=['pl_insol', 'pl_insolerr1', 'pl_insolerr2', 'pl_eqt', 'pl_eqterr1', 'pl_eqterr2'])\n",
    "massstMet = df.dropna(subset=['st_mass', 'st_masserr1', 'st_masserr2', 'st_met', 'st_meterr1', 'st_meterr2'])\n",
    "\n",
    "\n",
    "rad = rad[['pl_rade', 'pl_radeerr1', 'pl_radeerr2', 'pl_orbper', 'pl_orbpererr1', 'pl_orbpererr2', 'pl_orbsmax', 'pl_orbsmaxerr1', 'pl_orbsmaxerr2']]\n",
    "mass = mass[['pl_masse', 'pl_masseerr1', 'pl_masseerr2', 'pl_orbper', 'pl_orbpererr1', 'pl_orbpererr2', 'pl_orbsmax', 'pl_orbsmaxerr1', 'pl_orbsmaxerr2']]\n",
    "dens = dens[['pl_dens', 'pl_denserr1', 'pl_denserr2', 'pl_orbper', 'pl_orbpererr1', 'pl_orbpererr2', 'pl_orbsmax', 'pl_orbsmaxerr1', 'pl_orbsmaxerr2']]\n",
    "orbeccen = orbeccen[['pl_orbeccen', 'pl_orbeccenerr1', 'pl_orbeccenerr2', 'pl_orbper', 'pl_orbpererr1', 'pl_orbpererr2', 'pl_orbsmax', 'pl_orbsmaxerr1', 'pl_orbsmaxerr2']]\n",
    "insol = insol[['pl_insol', 'pl_insolerr1', 'pl_insolerr2', 'pl_orbper', 'pl_orbpererr1', 'pl_orbpererr2', 'pl_orbsmax', 'pl_orbsmaxerr1', 'pl_orbsmaxerr2']]\n",
    "eqt = eqt[['pl_eqt', 'pl_eqterr1', 'pl_eqterr2', 'pl_orbper', 'pl_orbpererr1', 'pl_orbpererr2', 'pl_orbsmax', 'pl_orbsmaxerr1', 'pl_orbsmaxerr2']]\n",
    "teff = teff[['st_teff', 'st_tefferr1', 'st_tefferr2', 'pl_orbper', 'pl_orbpererr1', 'pl_orbpererr2', 'pl_orbsmax', 'pl_orbsmaxerr1', 'pl_orbsmaxerr2']]\n",
    "radst = radst[['st_rad', 'st_raderr1', 'st_raderr2', 'pl_orbper', 'pl_orbpererr1', 'pl_orbpererr2', 'pl_orbsmax', 'pl_orbsmaxerr1', 'pl_orbsmaxerr2']]\n",
    "massst = massst[['st_mass', 'st_masserr1', 'st_masserr2', 'pl_orbper', 'pl_orbpererr1', 'pl_orbpererr2', 'pl_orbsmax', 'pl_orbsmaxerr1', 'pl_orbsmaxerr2']]\n",
    "met = met[['st_met', 'st_meterr1', 'st_meterr2', 'pl_orbper', 'pl_orbpererr1', 'pl_orbpererr2', 'pl_orbsmax', 'pl_orbsmaxerr1', 'pl_orbsmaxerr2']]\n",
    "agest = agest[['st_age', 'st_ageerr1', 'st_ageerr2', 'pl_orbper', 'pl_orbpererr1', 'pl_orbpererr2', 'pl_orbsmax', 'pl_orbsmaxerr1', 'pl_orbsmaxerr2']]\n",
    "\n",
    "# 3 verable \n",
    "massDens = massDens[['pl_masse', 'pl_masseerr1', 'pl_masseerr2', 'pl_dens', 'pl_denserr1', 'pl_denserr2', 'pl_orbper', 'pl_orbpererr1', 'pl_orbpererr2', 'pl_orbsmax', 'pl_orbsmaxerr1', 'pl_orbsmaxerr2']]\n",
    "insolEqt = insolEqt[['pl_insol', 'pl_insolerr1', 'pl_insolerr2', 'pl_eqt', 'pl_eqterr1', 'pl_eqterr2', 'pl_orbper', 'pl_orbpererr1', 'pl_orbpererr2', 'pl_orbsmax', 'pl_orbsmaxerr1', 'pl_orbsmaxerr2']]\n",
    "massstMet = massstMet[['st_mass', 'st_masserr1', 'st_masserr2', 'st_met', 'st_meterr1', 'st_meterr2', 'pl_orbper', 'pl_orbpererr1', 'pl_orbpererr2', 'pl_orbsmax', 'pl_orbsmaxerr1', 'pl_orbsmaxerr2']]\n",
    "\n",
    "\n",
    "\n",
    "rad = rad[~((rad < (rad.quantile(0.25) - 1.5 * (rad.quantile(0.75) - rad.quantile(0.25)))) |(rad > (rad.quantile(0.75) + 1.5 * (rad.quantile(0.75) - rad.quantile(0.25))))).any(axis=1)]\n",
    "mass = mass[~((mass < (mass.quantile(0.25) - 1.5 * (mass.quantile(0.75) - mass.quantile(0.25)))) |(mass > (mass.quantile(0.75) + 1.5 * (mass.quantile(0.75) - mass.quantile(0.25))))).any(axis=1)]\n",
    "dens = dens[~((dens < (dens.quantile(0.25) - 1.5 * (dens.quantile(0.75) - dens.quantile(0.25)))) |(dens > (dens.quantile(0.75) + 1.5 * (dens.quantile(0.75) - dens.quantile(0.25))))).any(axis=1)]\n",
    "orbeccen = orbeccen[~((orbeccen < (orbeccen.quantile(0.25) - 1.5 * (orbeccen.quantile(0.75) - orbeccen.quantile(0.25)))) |(orbeccen > (orbeccen.quantile(0.75) + 1.5 * (orbeccen.quantile(0.75) - orbeccen.quantile(0.25))))).any(axis=1)]\n",
    "insol = insol[~((insol < (insol.quantile(0.25) - 1.5 * (insol.quantile(0.75) - insol.quantile(0.25)))) |(insol > (insol.quantile(0.75) + 1.5 * (insol.quantile(0.75) - insol.quantile(0.25))))).any(axis=1)]\n",
    "eqt = eqt[~((eqt < (eqt.quantile(0.25) - 1.5 * (eqt.quantile(0.75) - eqt.quantile(0.25)))) |(eqt > (eqt.quantile(0.75) + 1.5 * (eqt.quantile(0.75) - eqt.quantile(0.25))))).any(axis=1)]\n",
    "teff = teff[~((teff < (teff.quantile(0.25) - 1.5 * (teff.quantile(0.75) - teff.quantile(0.25)))) |(teff > (teff.quantile(0.75) + 1.5 * (teff.quantile(0.75) - teff.quantile(0.25))))).any(axis=1)]\n",
    "radst = radst[~((radst < (radst.quantile(0.25) - 1.5 * (radst.quantile(0.75) - radst.quantile(0.25)))) |(radst > (radst.quantile(0.75) + 1.5 * (radst.quantile(0.75) - radst.quantile(0.25))))).any(axis=1)]\n",
    "massst = massst[~((massst < (massst.quantile(0.25) - 1.5 * (massst.quantile(0.75) - massst.quantile(0.25)))) |(massst > (massst.quantile(0.75) + 1.5 * (massst.quantile(0.75) - massst.quantile(0.25))))).any(axis=1)]\n",
    "met = met[~((met < (met.quantile(0.25) - 1.5 * (met.quantile(0.75) - met.quantile(0.25)))) |(met > (met.quantile(0.75) + 1.5 * (met.quantile(0.75) - met.quantile(0.25))))).any(axis=1)]\n",
    "agest = agest[~((agest < (agest.quantile(0.25) - 1.5 * (agest.quantile(0.75) - agest.quantile(0.25)))) |(agest > (agest.quantile(0.75) + 1.5 * (agest.quantile(0.75) - agest.quantile(0.25))))).any(axis=1)]\n",
    "\n",
    "# 3 verables\n",
    "massDens = massDens[~((massDens < (massDens.quantile(0.25) - 1.5 * (massDens.quantile(0.75) - massDens.quantile(0.25)))) |(massDens > (massDens.quantile(0.75) + 1.5 * (massDens.quantile(0.75) - massDens.quantile(0.25))))).any(axis=1)]\n",
    "insolEqt = insolEqt[~((insolEqt < (insolEqt.quantile(0.25) - 1.5 * (insolEqt.quantile(0.75) - insolEqt.quantile(0.25)))) |(insolEqt > (insolEqt.quantile(0.75) + 1.5 * (insolEqt.quantile(0.75) - insolEqt.quantile(0.25))))).any(axis=1)]\n",
    "massstMet = massstMet[~((massstMet < (massstMet.quantile(0.25) - 1.5 * (massstMet.quantile(0.75) - massstMet.quantile(0.25)))) |(massstMet > (massstMet.quantile(0.75) + 1.5 * (massstMet.quantile(0.75) - massstMet.quantile(0.25))))).any(axis=1)]\n"
   ]
  },
  {
   "cell_type": "markdown",
   "id": "7edf46d5",
   "metadata": {},
   "source": [
    "### Full Model Diagnostic Checks"
   ]
  },
  {
   "cell_type": "markdown",
   "id": "a2c77698",
   "metadata": {},
   "source": [
    "You need to check whether there are indications of violations of the regression assumptions for the full model."
   ]
  },
  {
   "cell_type": "markdown",
   "id": "7fc5a041",
   "metadata": {},
   "source": [
    "### Feature Selection"
   ]
  },
  {
   "cell_type": "markdown",
   "id": "e85c6e3e",
   "metadata": {},
   "source": [
    "You can use the code below to to perform backward feature selection using p-values ([credit](https://github.com/akmand/stats_tutorials/blob/main/regression_case_study_predicting_age_in_census_data.ipynb))."
   ]
  },
  {
   "cell_type": "code",
   "execution_count": 26,
   "id": "05f8dab1",
   "metadata": {},
   "outputs": [
    {
     "ename": "NameError",
     "evalue": "name 'formula_string_encoded' is not defined",
     "output_type": "error",
     "traceback": [
      "\u001b[0;31m---------------------------------------------------------------------------\u001b[0m",
      "\u001b[0;31mNameError\u001b[0m                                 Traceback (most recent call last)",
      "\u001b[0;32m/var/folders/0q/km1cv0fn3vg3jrfvd6yw6czm0000gn/T/ipykernel_86442/638230929.py\u001b[0m in \u001b[0;36m<module>\u001b[0;34m\u001b[0m\n\u001b[1;32m      1\u001b[0m \u001b[0;31m## create the patsy model description from formula\u001b[0m\u001b[0;34m\u001b[0m\u001b[0;34m\u001b[0m\u001b[0;34m\u001b[0m\u001b[0m\n\u001b[0;32m----> 2\u001b[0;31m \u001b[0mpatsy_description\u001b[0m \u001b[0;34m=\u001b[0m \u001b[0mpatsy\u001b[0m\u001b[0;34m.\u001b[0m\u001b[0mModelDesc\u001b[0m\u001b[0;34m.\u001b[0m\u001b[0mfrom_formula\u001b[0m\u001b[0;34m(\u001b[0m\u001b[0mformula_string_encoded\u001b[0m\u001b[0;34m)\u001b[0m\u001b[0;34m\u001b[0m\u001b[0;34m\u001b[0m\u001b[0m\n\u001b[0m\u001b[1;32m      3\u001b[0m \u001b[0;34m\u001b[0m\u001b[0m\n\u001b[1;32m      4\u001b[0m \u001b[0;31m# initialize feature-selected fit to full model\u001b[0m\u001b[0;34m\u001b[0m\u001b[0;34m\u001b[0m\u001b[0;34m\u001b[0m\u001b[0m\n\u001b[1;32m      5\u001b[0m \u001b[0mlinreg_fit\u001b[0m \u001b[0;34m=\u001b[0m \u001b[0mmodel_full_fitted\u001b[0m\u001b[0;34m\u001b[0m\u001b[0;34m\u001b[0m\u001b[0m\n",
      "\u001b[0;31mNameError\u001b[0m: name 'formula_string_encoded' is not defined"
     ]
    }
   ],
   "source": [
    "## create the patsy model description from formula\n",
    "patsy_description = patsy.ModelDesc.from_formula(formula_string_encoded)\n",
    "\n",
    "# initialize feature-selected fit to full model\n",
    "linreg_fit = model_full_fitted\n",
    "\n",
    "# do backwards elimination using p-values\n",
    "p_val_cutoff = 0.05\n",
    "\n",
    "## WARNING 1: The code below assumes that the Intercept term is present in the model.\n",
    "## WARNING 2: It will work only with main effects and two-way interactions, if any.\n",
    "\n",
    "print('\\nPerforming backwards feature selection using p-values:')\n",
    "\n",
    "while True:\n",
    "\n",
    "    # uncomment the line below if you would like to see the regression summary\n",
    "    # in each step:\n",
    "    ### print(linreg_fit.summary())\n",
    "\n",
    "    pval_series = linreg_fit.pvalues.drop(labels='Intercept')\n",
    "    pval_series = pval_series.sort_values(ascending=False)\n",
    "    term = pval_series.index[0]\n",
    "    pval = pval_series[0]\n",
    "    if (pval < p_val_cutoff):\n",
    "        break\n",
    "    term_components = term.split(':')\n",
    "    print(f'\\nRemoving term \"{term}\" with p-value {pval:.4}')\n",
    "    if (len(term_components) == 1): ## this is a main effect term\n",
    "        patsy_description.rhs_termlist.remove(patsy.Term([patsy.EvalFactor(term_components[0])]))    \n",
    "    else: ## this is an interaction term\n",
    "        patsy_description.rhs_termlist.remove(patsy.Term([patsy.EvalFactor(term_components[0]), \n",
    "                                                        patsy.EvalFactor(term_components[1])]))    \n",
    "        \n",
    "    linreg_fit = smf.ols(formula=patsy_description, data=data_encoded).fit()\n",
    "    \n",
    "###\n",
    "## this is the clean fit after backwards elimination\n",
    "model_reduced_fitted = smf.ols(formula = patsy_description, data = data_encoded).fit()\n",
    "###\n",
    "    \n",
    "#########\n",
    "print(\"\\n***\")\n",
    "print(model_reduced_fitted.summary())\n",
    "print(\"***\")\n",
    "print(f\"Regression number of terms: {len(model_reduced_fitted.model.exog_names)}\")\n",
    "print(f\"Regression F-distribution p-value: {model_reduced_fitted.f_pvalue:.4f}\")\n",
    "print(f\"Regression R-squared: {model_reduced_fitted.rsquared:.4f}\")\n",
    "print(f\"Regression Adjusted R-squared: {model_reduced_fitted.rsquared_adj:.4f}\")"
   ]
  },
  {
   "cell_type": "code",
   "execution_count": 27,
   "id": "3aecb6de",
   "metadata": {},
   "outputs": [
    {
     "ename": "NameError",
     "evalue": "name 'linregress' is not defined",
     "output_type": "error",
     "traceback": [
      "\u001b[0;31m---------------------------------------------------------------------------\u001b[0m",
      "\u001b[0;31mNameError\u001b[0m                                 Traceback (most recent call last)",
      "\u001b[0;32m/var/folders/0q/km1cv0fn3vg3jrfvd6yw6czm0000gn/T/ipykernel_86442/9579108.py\u001b[0m in \u001b[0;36m<module>\u001b[0;34m\u001b[0m\n\u001b[1;32m      8\u001b[0m \u001b[0mliney\u001b[0m \u001b[0;34m=\u001b[0m \u001b[0mfunc\u001b[0m\u001b[0;34m(\u001b[0m\u001b[0mlinex\u001b[0m\u001b[0;34m,\u001b[0m \u001b[0;34m*\u001b[0m\u001b[0mpopt\u001b[0m\u001b[0;34m)\u001b[0m\u001b[0;34m\u001b[0m\u001b[0;34m\u001b[0m\u001b[0m\n\u001b[1;32m      9\u001b[0m \u001b[0;34m\u001b[0m\u001b[0m\n\u001b[0;32m---> 10\u001b[0;31m \u001b[0mslope\u001b[0m\u001b[0;34m,\u001b[0m \u001b[0mintercept\u001b[0m\u001b[0;34m,\u001b[0m \u001b[0mr_value\u001b[0m\u001b[0;34m,\u001b[0m \u001b[0mp_value\u001b[0m\u001b[0;34m,\u001b[0m \u001b[0mstd_err\u001b[0m \u001b[0;34m=\u001b[0m \u001b[0mlinregress\u001b[0m\u001b[0;34m(\u001b[0m\u001b[0mrad\u001b[0m\u001b[0;34m[\u001b[0m\u001b[0;34m'pl_orbsmax'\u001b[0m\u001b[0;34m]\u001b[0m\u001b[0;34m,\u001b[0m \u001b[0mrad\u001b[0m\u001b[0;34m[\u001b[0m\u001b[0;34m'pl_rade'\u001b[0m\u001b[0;34m]\u001b[0m\u001b[0;34m)\u001b[0m\u001b[0;34m\u001b[0m\u001b[0;34m\u001b[0m\u001b[0m\n\u001b[0m\u001b[1;32m     11\u001b[0m rad.plot(kind = 'scatter', \n\u001b[1;32m     12\u001b[0m          \u001b[0mx\u001b[0m \u001b[0;34m=\u001b[0m \u001b[0;34m'pl_orbsmax'\u001b[0m\u001b[0;34m,\u001b[0m\u001b[0;34m\u001b[0m\u001b[0;34m\u001b[0m\u001b[0m\n",
      "\u001b[0;31mNameError\u001b[0m: name 'linregress' is not defined"
     ]
    }
   ],
   "source": [
    "from scipy.optimize import curve_fit\n",
    "\n",
    "def func(a, b, c, d):\n",
    "    return d * (a **2) + a * b + c\n",
    "\n",
    "popt, pcov = curve_fit(func, rad['pl_orbsmax'], rad['pl_rade'])\n",
    "linex = np.linspace(0,0.25,100)\n",
    "liney = func(linex, *popt)\n",
    "\n",
    "slope, intercept, r_value, p_value, std_err = linregress(rad['pl_orbsmax'], rad['pl_rade'])\n",
    "rad.plot(kind = 'scatter', \n",
    "         x = 'pl_orbsmax', \n",
    "         y = 'pl_rade', \n",
    "\n",
    "         xerr=rad['pl_orbsmaxerr1'], \n",
    "         yerr=rad['pl_radeerr1'],\n",
    "         ylabel= 'Radius of The Planet',\n",
    "         xlabel= 'Planet Orbital Radius',\n",
    "         title='Planet Orbital Radius vs Radius of The Planet')\n",
    "\n",
    "plt.plot(linex, liney, 'r')\n",
    "# plt.plot(rad['pl_orbsmax'], intercept + slope*rad['pl_orbsmax'], 'r', label='fitted line')\n",
    "plt.legend(['Data', f'Trend Line R^2:{str(r_value**2)[0:5]}'])\n",
    "plt.show()"
   ]
  },
  {
   "cell_type": "markdown",
   "id": "ea9b38d4",
   "metadata": {},
   "source": [
    "### Reduced Model Overview"
   ]
  },
  {
   "cell_type": "markdown",
   "id": "ff943e57",
   "metadata": {},
   "source": [
    "Overview of your reduced model, including the variables and terms you are using in your model."
   ]
  },
  {
   "cell_type": "markdown",
   "id": "39b395ee",
   "metadata": {},
   "source": [
    "### Reduced Model Diagnostic Checks"
   ]
  },
  {
   "cell_type": "markdown",
   "id": "2b1f5f62",
   "metadata": {},
   "source": [
    "You need to check whether there are indications of violations of the regression assumptions for the reduced model."
   ]
  },
  {
   "cell_type": "markdown",
   "id": "e0f30c49",
   "metadata": {},
   "source": [
    "## Critique & Limitations <a id='cl'></a>"
   ]
  },
  {
   "cell_type": "markdown",
   "id": "d8fe68b2",
   "metadata": {},
   "source": [
    "Critique & Limitations of your approach: strengths and weaknesses in detail."
   ]
  },
  {
   "cell_type": "markdown",
   "id": "427e0dd7",
   "metadata": {},
   "source": [
    "## Summary & Conclusions <a id='sc'></a>"
   ]
  },
  {
   "cell_type": "markdown",
   "id": "30a0df93",
   "metadata": {},
   "source": [
    "### Project Summary"
   ]
  },
  {
   "cell_type": "markdown",
   "id": "1111bc02",
   "metadata": {},
   "source": [
    "A comprehensive summary of your entire project (both Phase 1 and Phase 2). That is, what exactly did you do in your project? (Example: I first cleaned the data in such and such ways. And then I applied multiple linear regression techniques in such and such ways. etc)."
   ]
  },
  {
   "cell_type": "markdown",
   "id": "7a3df152",
   "metadata": {},
   "source": [
    "### Summary of Findings"
   ]
  },
  {
   "cell_type": "markdown",
   "id": "3f1287bc",
   "metadata": {},
   "source": [
    "A comprehensive summary of your findings. That is, what exactly did you find about your particular problem?"
   ]
  },
  {
   "cell_type": "markdown",
   "id": "86265bf4",
   "metadata": {},
   "source": [
    "### Conclusions"
   ]
  },
  {
   "cell_type": "markdown",
   "id": "4f8c0986",
   "metadata": {},
   "source": [
    "Your detailed conclusions as they relate to your goals and objectives."
   ]
  },
  {
   "cell_type": "code",
   "execution_count": null,
   "id": "6f973f58",
   "metadata": {},
   "outputs": [],
   "source": []
  }
 ],
 "metadata": {
  "kernelspec": {
   "display_name": "Python 3 (ipykernel)",
   "language": "python",
   "name": "python3"
  },
  "language_info": {
   "codemirror_mode": {
    "name": "ipython",
    "version": 3
   },
   "file_extension": ".py",
   "mimetype": "text/x-python",
   "name": "python",
   "nbconvert_exporter": "python",
   "pygments_lexer": "ipython3",
   "version": "3.9.6"
  }
 },
 "nbformat": 4,
 "nbformat_minor": 5
}
