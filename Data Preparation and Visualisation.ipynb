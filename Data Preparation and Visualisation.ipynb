{
 "cells": [
  {
   "cell_type": "markdown",
   "id": "032f4f0b",
   "metadata": {},
   "source": [
    "# <font color='black'>Finding key factors that predict an exoplanet's distance from its host star</font> <a id='q1'></a>\n",
    "\n",
    "### <font color='black'>Group Name: SPACE!</font> <a id='q1'></a>\n",
    "Ben Rycroft (s3947135)\n",
    "\n",
    "Rita Lam Cordeiro (s3471881)\n",
    "\n",
    "### <font color='black'>Introduction</font> <a id='q1'></a>\n",
    "\n",
    "**Dataset Source**\n",
    "\n",
    "The NASA Exoplanet archive compiles data on all known exoplanets and their host stars including exoplanet parameters, stellar parameters and and discovery/characterization data\n",
    "\n",
    "\n",
    "**Dataset Details**\n",
    "\n",
    "Each row in the dataet represents an exoplanet. This dataset has _ columns: "
   ]
  },
  {
   "cell_type": "code",
   "execution_count": 2,
   "id": "66e476e0",
   "metadata": {},
   "outputs": [],
   "source": [
    "import warnings\n",
    "warnings.filterwarnings(\"ignore\")\n",
    "\n",
    "import numpy as np\n",
    "import pandas as pd\n",
    "import io\n",
    "import requests\n",
    "\n",
    "pd.set_option('display.max_columns', None) \n",
    "\n",
    "###\n",
    "import matplotlib.pyplot as plt\n",
    "import seaborn as sns\n",
    "%matplotlib inline \n",
    "%config InlineBackend.figure_format = 'retina'\n",
    "plt.style.use(\"seaborn\")\n",
    "###"
   ]
  },
  {
   "cell_type": "code",
   "execution_count": null,
   "id": "c136bf27",
   "metadata": {},
   "outputs": [],
   "source": [
    "#naming the dataset\n",
    "df_name = ''\n",
    "\n",
    "df_url = 'https://raw.githubusercontent.com/BenRyc/SPACE-/master/' + ep\n",
    "url_content = requests.get(df_url, verify=False).content\n",
    "ep = pd.read_csv(io.StringIO(url_content.decode('utf=8')))"
   ]
  },
  {
   "cell_type": "code",
   "execution_count": null,
   "id": "1fb66733",
   "metadata": {},
   "outputs": [],
   "source": [
    "ep.head()"
   ]
  }
 ],
 "metadata": {
  "kernelspec": {
   "display_name": "Python 3 (ipykernel)",
   "language": "python",
   "name": "python3"
  },
  "language_info": {
   "codemirror_mode": {
    "name": "ipython",
    "version": 3
   },
   "file_extension": ".py",
   "mimetype": "text/x-python",
   "name": "python",
   "nbconvert_exporter": "python",
   "pygments_lexer": "ipython3",
   "version": "3.9.6"
  }
 },
 "nbformat": 4,
 "nbformat_minor": 5
}
