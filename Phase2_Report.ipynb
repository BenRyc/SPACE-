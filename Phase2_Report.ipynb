{
 "cells": [
  {
   "cell_type": "markdown",
   "id": "0773433c",
   "metadata": {},
   "source": [
    "# Predicting Planets' distance from its host star\n",
    "## Phase 2: Statistical Modelling"
   ]
  },
  {
   "cell_type": "markdown",
   "id": "d704ad9a",
   "metadata": {},
   "source": [
    "### Group Name: SPACE!\n",
    "Ben Rycroft (s3947135)\n",
    "\n",
    "Rita Lam Cordeiro (s3471881)\n"
   ]
  },
  {
   "cell_type": "markdown",
   "id": "34ad87ce",
   "metadata": {},
   "source": [
    "## Table of Contents\n",
    "- [Introduction](#intro)\n",
    "- [Statistical Modelling](#sm)\n",
    "- [Critique & Limitations](#cl)\n",
    "- [Summary & Conclusions](#sc)"
   ]
  },
  {
   "cell_type": "markdown",
   "id": "fa57a106",
   "metadata": {},
   "source": [
    "## Introduction <a id='intro'></a>"
   ]
  },
  {
   "cell_type": "markdown",
   "id": "c44eb8e3",
   "metadata": {},
   "source": [
    "### Phase 1 Summary"
   ]
  },
  {
   "cell_type": "markdown",
   "id": "c799c271",
   "metadata": {},
   "source": [
    "In Phase 1 we focused on preparing data relevant to a planet's distance from its host star and attempting to draw connections between this and other variables, this included: planet radius, planet mass, planet density, orbital eccentricity, insolation flux, equilibrium temperature, stellar temperature, stellar radius, stellar mass, stellar metallicity and stellar age.\n",
    "\n",
    "We had concluded that the strongest predictors of Orbital Radius were the temperature, the planet's radius and the shape of the planet's orbit.\n",
    "\n",
    "**Important Phase 2 Note:** Please do NOT include your Phase 1 report or its contents with your Phase 2 submissions. You can, however, make some changes with your Phase 1 tasks if you need to, and then ONLY include these changes with your Phase 2 report with some explanation for these changes.\n",
    "\n",
    "**Phase 1 Changes**\n",
    "\n"
   ]
  },
  {
   "cell_type": "markdown",
   "id": "99860a67",
   "metadata": {},
   "source": [
    "### Report Overview<a id='sm'></a>"
   ]
  },
  {
   "cell_type": "markdown",
   "id": "e70a9bcc",
   "metadata": {},
   "source": [
    "A complete and accurate overview of the contents of your Phase 2 report. Clarification: A Table of Contents is not a report overview."
   ]
  },
  {
   "cell_type": "markdown",
   "id": "1d94a0e5",
   "metadata": {},
   "source": [
    "### Overview of Methodology"
   ]
  },
  {
   "cell_type": "markdown",
   "id": "89e432d3",
   "metadata": {},
   "source": [
    "A detailed, complete, and accurate overview of your statistical modelling methodology (which is multiple linear regression). More specifically, in this subsection, you will provide a summary of your \"Statistical Modelling\" section below."
   ]
  },
  {
   "cell_type": "markdown",
   "id": "74723056",
   "metadata": {},
   "source": [
    "## Statistical Modelling <a id='sm'></a>"
   ]
  },
  {
   "cell_type": "markdown",
   "id": "6a5d3206",
   "metadata": {},
   "source": [
    "(Statistical Modelling Section: Details of assumptions check, model selection, plots of residuals, and technical analysis of regression results.)\n",
    "\n",
    "**NOTE:** The second half of [this](https://github.com/akmand/stats_tutorials/blob/main/regression_case_study_predicting_age_in_census_data.ipynb) regression case study (\"Statistical Modeling and Performance Evaluation\" Section) will be **very helpful** for this section."
   ]
  },
  {
   "cell_type": "markdown",
   "id": "8163a802",
   "metadata": {},
   "source": [
    "### Full Model Overview"
   ]
  },
  {
   "cell_type": "markdown",
   "id": "ae5ed672",
   "metadata": {},
   "source": [
    "#### Database Overview        \n",
    "**rad (Radius):**  \n",
    "Data Type: numeric   \n",
    "[Earth Radius]: Earth Radius is a measure of planetary radius that describes how many earth radii  an exoplanet's radius is equal to  \n",
    "\n",
    "pl_rade:        Planet Radius  \n",
    "pl_radeerr1:    Planet Radius Upper Uncertainty   \n",
    "pl_radeerr2:    Planet Radius Lower Uncertainty  \n",
    "pl_radelim:     Planet Radius Limit Flag  \n",
    "\n",
    "**mass:**  \n",
    "Data Type: numeric  \n",
    "[Earth Mass]  Earth Mass is a measure of planetary Mass that describes how many earth masses an exoplanet's radius is equal to\n",
    "\n",
    "pl_masse:       Planet Mass  \n",
    "pl_masseerr1:   Planet Mass Upper Uncertainty  \n",
    "pl_masseerr2:   Planet Mass Lower Uncertainty  \n",
    "pl_masselim:    Planet Mass Limit Flag  \n",
    "\n",
    "**dens (Density):**  \n",
    "Data Type: numeric  \n",
    "[g/cm^3]: grammes per centimeter cubed.  \n",
    "\n",
    "pl_dens:        Planet Density  \n",
    "pl_denserr1:    Planet Density Upper Uncertainty\n",
    "pl_denserr2:    Planet Density Lower Uncertainty\n",
    "pl_denslim:     Planet Density Limit Flag  \n",
    "\n",
    "**orbeccen (Orbit Eccentricity):**    \n",
    "Data Type: numeric  \n",
    "[eccentricity]: the measure deviation of an orbit from circularity, the closer to 1, the more circular.  \n",
    "\n",
    "pl_orbeccen:    Eccentricity  \n",
    "pl_orbeccenerr1: Eccentricity Upper Uncertainty  \n",
    "pl_orbeccenerr2: Eccentricity Lower Uncertainty  \n",
    "pl_orbeccenlim: Eccentricity Limit Flag  \n",
    "\n",
    "**insol (Insolation):**  \n",
    "Data Type: numeric  \n",
    "[Earth Flux]: Flux measures how much light energy is being radiated in a given area. \n",
    "\n",
    "pl_insol:       Insolation Flux   \n",
    "pl_insolerr1:   Insolation Flux Upper Uncertainty   \n",
    "pl_insolerr2:   Insolation Flux Lower Uncertainty   \n",
    "pl_insollim:    Insolation Flux Limit Flag  \n",
    "\n",
    "**eqt (Equilibrium Temperature):**  \n",
    "Data Type: numeric  \n",
    "[K]: Kelvin, a measure of temperature. \n",
    "\n",
    "pl_eqt:         Equilibrium Temperature  \n",
    "pl_eqterr1:     Equilibrium Temperature Upper Uncertainty  \n",
    "pl_eqterr2:     Equilibrium Temperature Lower Uncertainty  \n",
    "pl_eqtlim:      Equilibrium Temperature Limit Flag  \n",
    "\n",
    "**teff (Stellar Effective Temperature):**   \n",
    "Data Type: numeric  \n",
    "[K]: Kelvin, a measure of temperature.\n",
    "\n",
    "st_teff:        Stellar Effective Temperature   \n",
    "st_tefferr1:    Stellar Effective Temperature Upper Unc.   \n",
    "st_tefferr2:    Stellar Effective Temperature Lower Unc.   \n",
    "st_tefflim:     Stellar Effective Temperature Limit Flag  \n",
    "\n",
    "**radst (Radius of Star):**      \n",
    "Data Type: numeric   \n",
    "[Solar Radius]:  Solar Radius is a measure of stellar radius that describes how many Solar radii a Star's radius is equal to.  \n",
    "\n",
    "st_rad:         Stellar Radius    \n",
    "st_raderr1:     Stellar Radius Upper Uncertainty   \n",
    "st_raderr2:     Stellar Radius Lower Uncertainty   \n",
    "st_radlim:      Stellar Radius Limit Flag  \n",
    "\n",
    "**massst (Mass of Star):**     \n",
    "Data Type: numeric  \n",
    "[Solar mass]: Solar Mass is a measure of stellar mass that describes how many solar masses a Star's radius is equal to.    \n",
    "\n",
    "st_mass:        Stellar Mass   \n",
    "st_masserr1:    Stellar Mass Upper Uncertainty   \n",
    "st_masserr2:    Stellar Mass Lower Uncertainty   \n",
    "st_masslim:     Stellar Mass Limit Flag  \n",
    "\n",
    "**met (Metallicity):**   \n",
    "Data Type: numeric  \n",
    "[dex]: decimal exponent, measures the abundance of metal in a star.\n",
    "\n",
    "st_met:         Stellar Metallicity   \n",
    "st_meterr1:     Stellar Metallicity Upper Uncertainty   \n",
    "st_meterr2:     Stellar Metallicity Lower Uncertainty  \n",
    "st_metlim:      Stellar Metallicity Limit Flag  \n",
    "\n",
    "**agest (Stellar Age):**  \n",
    "Data Type: numeric  \n",
    "[Gyr]: Giga year (one billion years), the age of the star.\n",
    "\n",
    "st_age:         Stellar Age   \n",
    "st_ageerr1:     Stellar Age Upper Uncertainty   \n",
    "st_ageerr2:     Stellar Age Lower Uncertainty  \n",
    "st_agelim:      Stellar Age Limit Flag  \n",
    "\n",
    "\n"
   ]
  },
  {
   "cell_type": "markdown",
   "id": "69d938f8",
   "metadata": {},
   "source": [
    "#### Module Imports"
   ]
  },
  {
   "cell_type": "code",
   "execution_count": 7,
   "id": "bda62bd3",
   "metadata": {},
   "outputs": [],
   "source": [
    "import numpy as np\n",
    "import pandas as pd\n",
    "import matplotlib.pyplot as plt\n",
    "import seaborn as sns\n",
    "import statsmodels.api as sm\n",
    "import statsmodels.formula.api as smf\n",
    "import patsy\n",
    "import warnings\n",
    "from IPython.display import display, HTML\n",
    "from ipywidgets import interactive\n",
    "def function_mcq(selection): pass\n",
    "###\n",
    "warnings.filterwarnings('ignore')\n",
    "###\n",
    "%matplotlib inline \n",
    "%config InlineBackend.figure_format = 'retina'\n",
    "plt.style.use(\"ggplot\")"
   ]
  },
  {
   "cell_type": "markdown",
   "id": "c2d38478",
   "metadata": {},
   "source": [
    "### Cleaning outliers and missing values"
   ]
  },
  {
   "cell_type": "code",
   "execution_count": 8,
   "id": "4c9511fc",
   "metadata": {},
   "outputs": [
    {
     "ename": "NameError",
     "evalue": "name 'df' is not defined",
     "output_type": "error",
     "traceback": [
      "\u001b[0;31m---------------------------------------------------------------------------\u001b[0m",
      "\u001b[0;31mNameError\u001b[0m                                 Traceback (most recent call last)",
      "\u001b[0;32m/var/folders/0q/km1cv0fn3vg3jrfvd6yw6czm0000gn/T/ipykernel_1335/36955893.py\u001b[0m in \u001b[0;36m<module>\u001b[0;34m\u001b[0m\n\u001b[0;32m----> 1\u001b[0;31m \u001b[0mrad\u001b[0m \u001b[0;34m=\u001b[0m \u001b[0mdf\u001b[0m\u001b[0;34m.\u001b[0m\u001b[0mdropna\u001b[0m\u001b[0;34m(\u001b[0m\u001b[0msubset\u001b[0m\u001b[0;34m=\u001b[0m\u001b[0;34m[\u001b[0m\u001b[0;34m'pl_rade'\u001b[0m\u001b[0;34m,\u001b[0m \u001b[0;34m'pl_radeerr1'\u001b[0m\u001b[0;34m,\u001b[0m \u001b[0;34m'pl_radeerr2'\u001b[0m\u001b[0;34m]\u001b[0m\u001b[0;34m)\u001b[0m\u001b[0;34m\u001b[0m\u001b[0;34m\u001b[0m\u001b[0m\n\u001b[0m\u001b[1;32m      2\u001b[0m \u001b[0mmass\u001b[0m \u001b[0;34m=\u001b[0m \u001b[0mdf\u001b[0m\u001b[0;34m.\u001b[0m\u001b[0mdropna\u001b[0m\u001b[0;34m(\u001b[0m\u001b[0msubset\u001b[0m\u001b[0;34m=\u001b[0m\u001b[0;34m[\u001b[0m\u001b[0;34m'pl_masse'\u001b[0m\u001b[0;34m,\u001b[0m \u001b[0;34m'pl_masseerr1'\u001b[0m\u001b[0;34m,\u001b[0m \u001b[0;34m'pl_masseerr2'\u001b[0m\u001b[0;34m]\u001b[0m\u001b[0;34m)\u001b[0m\u001b[0;34m\u001b[0m\u001b[0;34m\u001b[0m\u001b[0m\n\u001b[1;32m      3\u001b[0m \u001b[0mdens\u001b[0m \u001b[0;34m=\u001b[0m \u001b[0mdf\u001b[0m\u001b[0;34m.\u001b[0m\u001b[0mdropna\u001b[0m\u001b[0;34m(\u001b[0m\u001b[0msubset\u001b[0m\u001b[0;34m=\u001b[0m\u001b[0;34m[\u001b[0m\u001b[0;34m'pl_dens'\u001b[0m\u001b[0;34m,\u001b[0m \u001b[0;34m'pl_denserr1'\u001b[0m\u001b[0;34m,\u001b[0m \u001b[0;34m'pl_denserr2'\u001b[0m\u001b[0;34m]\u001b[0m\u001b[0;34m)\u001b[0m\u001b[0;34m\u001b[0m\u001b[0;34m\u001b[0m\u001b[0m\n\u001b[1;32m      4\u001b[0m \u001b[0morbeccen\u001b[0m \u001b[0;34m=\u001b[0m \u001b[0mdf\u001b[0m\u001b[0;34m.\u001b[0m\u001b[0mdropna\u001b[0m\u001b[0;34m(\u001b[0m\u001b[0msubset\u001b[0m\u001b[0;34m=\u001b[0m\u001b[0;34m[\u001b[0m\u001b[0;34m'pl_orbeccen'\u001b[0m\u001b[0;34m,\u001b[0m \u001b[0;34m'pl_orbeccenerr1'\u001b[0m\u001b[0;34m,\u001b[0m \u001b[0;34m'pl_orbeccenerr2'\u001b[0m\u001b[0;34m]\u001b[0m\u001b[0;34m)\u001b[0m\u001b[0;34m\u001b[0m\u001b[0;34m\u001b[0m\u001b[0m\n\u001b[1;32m      5\u001b[0m \u001b[0minsol\u001b[0m \u001b[0;34m=\u001b[0m \u001b[0mdf\u001b[0m\u001b[0;34m.\u001b[0m\u001b[0mdropna\u001b[0m\u001b[0;34m(\u001b[0m\u001b[0msubset\u001b[0m\u001b[0;34m=\u001b[0m\u001b[0;34m[\u001b[0m\u001b[0;34m'pl_insol'\u001b[0m\u001b[0;34m,\u001b[0m \u001b[0;34m'pl_insolerr1'\u001b[0m\u001b[0;34m,\u001b[0m \u001b[0;34m'pl_insolerr2'\u001b[0m\u001b[0;34m]\u001b[0m\u001b[0;34m)\u001b[0m\u001b[0;34m\u001b[0m\u001b[0;34m\u001b[0m\u001b[0m\n",
      "\u001b[0;31mNameError\u001b[0m: name 'df' is not defined"
     ]
    }
   ],
   "source": [
    "rad = df.dropna(subset=['pl_rade', 'pl_radeerr1', 'pl_radeerr2'])\n",
    "mass = df.dropna(subset=['pl_masse', 'pl_masseerr1', 'pl_masseerr2'])\n",
    "dens = df.dropna(subset=['pl_dens', 'pl_denserr1', 'pl_denserr2'])\n",
    "orbeccen = df.dropna(subset=['pl_orbeccen', 'pl_orbeccenerr1', 'pl_orbeccenerr2'])\n",
    "insol = df.dropna(subset=['pl_insol', 'pl_insolerr1', 'pl_insolerr2'])\n",
    "eqt = df.dropna(subset=['pl_eqt', 'pl_eqterr1', 'pl_eqterr2'])\n",
    "teff = df.dropna(subset=['st_teff', 'st_tefferr1', 'st_tefferr2'])\n",
    "radst = df.dropna(subset=['st_rad', 'st_raderr1', 'st_raderr2'])\n",
    "massst = df.dropna(subset=['st_mass', 'st_masserr1', 'st_masserr2'])\n",
    "met = df.dropna(subset=['st_met', 'st_meterr1', 'st_meterr2'])\n",
    "agest = df.dropna(subset=['st_age', 'st_ageerr1', 'st_ageerr2'])\n",
    "\n",
    "# 3 verables \n",
    "\n",
    "massDens = df.dropna(subset=['pl_masse', 'pl_masseerr1', 'pl_masseerr2', 'pl_dens', 'pl_denserr1', 'pl_denserr2'])\n",
    "insolEqt = df.dropna(subset=['pl_insol', 'pl_insolerr1', 'pl_insolerr2', 'pl_eqt', 'pl_eqterr1', 'pl_eqterr2'])\n",
    "massstMet = df.dropna(subset=['st_mass', 'st_masserr1', 'st_masserr2', 'st_met', 'st_meterr1', 'st_meterr2'])\n",
    "\n",
    "\n",
    "rad = rad[['pl_rade', 'pl_radeerr1', 'pl_radeerr2', 'pl_orbper', 'pl_orbpererr1', 'pl_orbpererr2', 'pl_orbsmax', 'pl_orbsmaxerr1', 'pl_orbsmaxerr2']]\n",
    "mass = mass[['pl_masse', 'pl_masseerr1', 'pl_masseerr2', 'pl_orbper', 'pl_orbpererr1', 'pl_orbpererr2', 'pl_orbsmax', 'pl_orbsmaxerr1', 'pl_orbsmaxerr2']]\n",
    "dens = dens[['pl_dens', 'pl_denserr1', 'pl_denserr2', 'pl_orbper', 'pl_orbpererr1', 'pl_orbpererr2', 'pl_orbsmax', 'pl_orbsmaxerr1', 'pl_orbsmaxerr2']]\n",
    "orbeccen = orbeccen[['pl_orbeccen', 'pl_orbeccenerr1', 'pl_orbeccenerr2', 'pl_orbper', 'pl_orbpererr1', 'pl_orbpererr2', 'pl_orbsmax', 'pl_orbsmaxerr1', 'pl_orbsmaxerr2']]\n",
    "insol = insol[['pl_insol', 'pl_insolerr1', 'pl_insolerr2', 'pl_orbper', 'pl_orbpererr1', 'pl_orbpererr2', 'pl_orbsmax', 'pl_orbsmaxerr1', 'pl_orbsmaxerr2']]\n",
    "eqt = eqt[['pl_eqt', 'pl_eqterr1', 'pl_eqterr2', 'pl_orbper', 'pl_orbpererr1', 'pl_orbpererr2', 'pl_orbsmax', 'pl_orbsmaxerr1', 'pl_orbsmaxerr2']]\n",
    "teff = teff[['st_teff', 'st_tefferr1', 'st_tefferr2', 'pl_orbper', 'pl_orbpererr1', 'pl_orbpererr2', 'pl_orbsmax', 'pl_orbsmaxerr1', 'pl_orbsmaxerr2']]\n",
    "radst = radst[['st_rad', 'st_raderr1', 'st_raderr2', 'pl_orbper', 'pl_orbpererr1', 'pl_orbpererr2', 'pl_orbsmax', 'pl_orbsmaxerr1', 'pl_orbsmaxerr2']]\n",
    "massst = massst[['st_mass', 'st_masserr1', 'st_masserr2', 'pl_orbper', 'pl_orbpererr1', 'pl_orbpererr2', 'pl_orbsmax', 'pl_orbsmaxerr1', 'pl_orbsmaxerr2']]\n",
    "met = met[['st_met', 'st_meterr1', 'st_meterr2', 'pl_orbper', 'pl_orbpererr1', 'pl_orbpererr2', 'pl_orbsmax', 'pl_orbsmaxerr1', 'pl_orbsmaxerr2']]\n",
    "agest = agest[['st_age', 'st_ageerr1', 'st_ageerr2', 'pl_orbper', 'pl_orbpererr1', 'pl_orbpererr2', 'pl_orbsmax', 'pl_orbsmaxerr1', 'pl_orbsmaxerr2']]\n",
    "\n",
    "# 3 verable \n",
    "massDens = massDens[['pl_masse', 'pl_masseerr1', 'pl_masseerr2', 'pl_dens', 'pl_denserr1', 'pl_denserr2', 'pl_orbper', 'pl_orbpererr1', 'pl_orbpererr2', 'pl_orbsmax', 'pl_orbsmaxerr1', 'pl_orbsmaxerr2']]\n",
    "insolEqt = insolEqt[['pl_insol', 'pl_insolerr1', 'pl_insolerr2', 'pl_eqt', 'pl_eqterr1', 'pl_eqterr2', 'pl_orbper', 'pl_orbpererr1', 'pl_orbpererr2', 'pl_orbsmax', 'pl_orbsmaxerr1', 'pl_orbsmaxerr2']]\n",
    "massstMet = massstMet[['st_mass', 'st_masserr1', 'st_masserr2', 'st_met', 'st_meterr1', 'st_meterr2', 'pl_orbper', 'pl_orbpererr1', 'pl_orbpererr2', 'pl_orbsmax', 'pl_orbsmaxerr1', 'pl_orbsmaxerr2']]\n",
    "\n",
    "\n",
    "\n",
    "rad = rad[~((rad < (rad.quantile(0.25) - 1.5 * (rad.quantile(0.75) - rad.quantile(0.25)))) |(rad > (rad.quantile(0.75) + 1.5 * (rad.quantile(0.75) - rad.quantile(0.25))))).any(axis=1)]\n",
    "mass = mass[~((mass < (mass.quantile(0.25) - 1.5 * (mass.quantile(0.75) - mass.quantile(0.25)))) |(mass > (mass.quantile(0.75) + 1.5 * (mass.quantile(0.75) - mass.quantile(0.25))))).any(axis=1)]\n",
    "dens = dens[~((dens < (dens.quantile(0.25) - 1.5 * (dens.quantile(0.75) - dens.quantile(0.25)))) |(dens > (dens.quantile(0.75) + 1.5 * (dens.quantile(0.75) - dens.quantile(0.25))))).any(axis=1)]\n",
    "orbeccen = orbeccen[~((orbeccen < (orbeccen.quantile(0.25) - 1.5 * (orbeccen.quantile(0.75) - orbeccen.quantile(0.25)))) |(orbeccen > (orbeccen.quantile(0.75) + 1.5 * (orbeccen.quantile(0.75) - orbeccen.quantile(0.25))))).any(axis=1)]\n",
    "insol = insol[~((insol < (insol.quantile(0.25) - 1.5 * (insol.quantile(0.75) - insol.quantile(0.25)))) |(insol > (insol.quantile(0.75) + 1.5 * (insol.quantile(0.75) - insol.quantile(0.25))))).any(axis=1)]\n",
    "eqt = eqt[~((eqt < (eqt.quantile(0.25) - 1.5 * (eqt.quantile(0.75) - eqt.quantile(0.25)))) |(eqt > (eqt.quantile(0.75) + 1.5 * (eqt.quantile(0.75) - eqt.quantile(0.25))))).any(axis=1)]\n",
    "teff = teff[~((teff < (teff.quantile(0.25) - 1.5 * (teff.quantile(0.75) - teff.quantile(0.25)))) |(teff > (teff.quantile(0.75) + 1.5 * (teff.quantile(0.75) - teff.quantile(0.25))))).any(axis=1)]\n",
    "radst = radst[~((radst < (radst.quantile(0.25) - 1.5 * (radst.quantile(0.75) - radst.quantile(0.25)))) |(radst > (radst.quantile(0.75) + 1.5 * (radst.quantile(0.75) - radst.quantile(0.25))))).any(axis=1)]\n",
    "massst = massst[~((massst < (massst.quantile(0.25) - 1.5 * (massst.quantile(0.75) - massst.quantile(0.25)))) |(massst > (massst.quantile(0.75) + 1.5 * (massst.quantile(0.75) - massst.quantile(0.25))))).any(axis=1)]\n",
    "met = met[~((met < (met.quantile(0.25) - 1.5 * (met.quantile(0.75) - met.quantile(0.25)))) |(met > (met.quantile(0.75) + 1.5 * (met.quantile(0.75) - met.quantile(0.25))))).any(axis=1)]\n",
    "agest = agest[~((agest < (agest.quantile(0.25) - 1.5 * (agest.quantile(0.75) - agest.quantile(0.25)))) |(agest > (agest.quantile(0.75) + 1.5 * (agest.quantile(0.75) - agest.quantile(0.25))))).any(axis=1)]\n",
    "\n",
    "# 3 verables\n",
    "massDens = massDens[~((massDens < (massDens.quantile(0.25) - 1.5 * (massDens.quantile(0.75) - massDens.quantile(0.25)))) |(massDens > (massDens.quantile(0.75) + 1.5 * (massDens.quantile(0.75) - massDens.quantile(0.25))))).any(axis=1)]\n",
    "insolEqt = insolEqt[~((insolEqt < (insolEqt.quantile(0.25) - 1.5 * (insolEqt.quantile(0.75) - insolEqt.quantile(0.25)))) |(insolEqt > (insolEqt.quantile(0.75) + 1.5 * (insolEqt.quantile(0.75) - insolEqt.quantile(0.25))))).any(axis=1)]\n",
    "massstMet = massstMet[~((massstMet < (massstMet.quantile(0.25) - 1.5 * (massstMet.quantile(0.75) - massstMet.quantile(0.25)))) |(massstMet > (massstMet.quantile(0.75) + 1.5 * (massstMet.quantile(0.75) - massstMet.quantile(0.25))))).any(axis=1)]\n",
    "\n",
    "\n",
    "data = {}\n",
    "data['rad'] = rad\n",
    "data['mass'] = mass\n",
    "data['dens'] = dens\n",
    "data['orbeccen'] = orbeccen\n",
    "data['insol'] = insol\n",
    "data['eqt'] = eqt\n",
    "data['teff'] = teff\n",
    "data['radst'] = radst\n",
    "data['massst'] = massst\n",
    "data['met'] = met\n",
    "data['agest'] = agest\n",
    "data['massDens'] = massDens\n",
    "data['insolEqt'] = insolEqt\n",
    "data['massstMet'] = massstMet"
   ]
  },
  {
   "cell_type": "markdown",
   "id": "6ec9887a",
   "metadata": {},
   "source": [
    "### Summary Statistics\n",
    "#### Select data set to view sumary\n",
    "Table Summary"
   ]
  },
  {
   "cell_type": "code",
   "execution_count": 9,
   "id": "394c7589",
   "metadata": {},
   "outputs": [
    {
     "data": {
      "application/vnd.jupyter.widget-view+json": {
       "model_id": "686106b3887a48daa0d19fabfc6ac998",
       "version_major": 2,
       "version_minor": 0
      },
      "text/plain": [
       "interactive(children=(Dropdown(description='selection', options=('rad', 'mass', 'dens', 'orbeccen', 'insol', '…"
      ]
     },
     "metadata": {},
     "output_type": "display_data"
    }
   ],
   "source": [
    "\n",
    "sec1 = interactive(function_mcq, \n",
    "                 selection=['rad', \n",
    "                            'mass',\n",
    "                            'dens',\n",
    "                            'orbeccen',\n",
    "                            'insol',\n",
    "                            'eqt',\n",
    "                            'teff',\n",
    "                            'radst',\n",
    "                            'massst',\n",
    "                            'met',\n",
    "                            'agest',\n",
    "                            'massDens',\n",
    "                            'insolEqt',\n",
    "                            'massstMet']); \n",
    "display(sec1)"
   ]
  },
  {
   "cell_type": "code",
   "execution_count": 10,
   "id": "d36e000b",
   "metadata": {},
   "outputs": [
    {
     "data": {
      "text/html": [
       "<b>Summary of features: rad</b>"
      ],
      "text/plain": [
       "<IPython.core.display.HTML object>"
      ]
     },
     "metadata": {},
     "output_type": "display_data"
    },
    {
     "ename": "NameError",
     "evalue": "name 'data' is not defined",
     "output_type": "error",
     "traceback": [
      "\u001b[0;31m---------------------------------------------------------------------------\u001b[0m",
      "\u001b[0;31mNameError\u001b[0m                                 Traceback (most recent call last)",
      "\u001b[0;32m/var/folders/0q/km1cv0fn3vg3jrfvd6yw6czm0000gn/T/ipykernel_1335/1970085924.py\u001b[0m in \u001b[0;36m<module>\u001b[0;34m\u001b[0m\n\u001b[1;32m      1\u001b[0m \u001b[0mdisplay\u001b[0m\u001b[0;34m(\u001b[0m\u001b[0mHTML\u001b[0m\u001b[0;34m(\u001b[0m\u001b[0;34mf'<b>Summary of features: {sec1.kwargs[\"selection\"]}</b>'\u001b[0m\u001b[0;34m)\u001b[0m\u001b[0;34m)\u001b[0m\u001b[0;34m\u001b[0m\u001b[0;34m\u001b[0m\u001b[0m\n\u001b[0;32m----> 2\u001b[0;31m \u001b[0mdata\u001b[0m\u001b[0;34m[\u001b[0m\u001b[0msec1\u001b[0m\u001b[0;34m.\u001b[0m\u001b[0mkwargs\u001b[0m\u001b[0;34m[\u001b[0m\u001b[0;34m'selection'\u001b[0m\u001b[0;34m]\u001b[0m\u001b[0;34m]\u001b[0m\u001b[0;34m.\u001b[0m\u001b[0mdescribe\u001b[0m\u001b[0;34m(\u001b[0m\u001b[0;34m)\u001b[0m\u001b[0;34m\u001b[0m\u001b[0;34m\u001b[0m\u001b[0m\n\u001b[0m",
      "\u001b[0;31mNameError\u001b[0m: name 'data' is not defined"
     ]
    }
   ],
   "source": [
    "display(HTML(f'<b>Summary of features: {sec1.kwargs[\"selection\"]}</b>'))\n",
    "data[sec1.kwargs['selection']].describe()"
   ]
  },
  {
   "cell_type": "markdown",
   "id": "7edf46d5",
   "metadata": {},
   "source": [
    "### Full Model Diagnostic Checks"
   ]
  },
  {
   "cell_type": "markdown",
   "id": "a2c77698",
   "metadata": {},
   "source": [
    "You need to check whether there are indications of violations of the regression assumptions for the full model.\n",
    "\n",
    "We have freq"
   ]
  },
  {
   "cell_type": "markdown",
   "id": "7fc5a041",
   "metadata": {},
   "source": [
    "### Feature Selection"
   ]
  },
  {
   "cell_type": "markdown",
   "id": "e85c6e3e",
   "metadata": {},
   "source": [
    "You can use the code below to to perform backward feature selection using p-values ([credit](https://github.com/akmand/stats_tutorials/blob/main/regression_case_study_predicting_age_in_census_data.ipynb))."
   ]
  },
  {
   "cell_type": "code",
   "execution_count": null,
   "id": "05f8dab1",
   "metadata": {},
   "outputs": [],
   "source": [
    "## create the patsy model description from formula\n",
    "patsy_description = patsy.ModelDesc.from_formula(formula_string_encoded)\n",
    "\n",
    "# initialize feature-selected fit to full model\n",
    "linreg_fit = model_full_fitted\n",
    "\n",
    "# do backwards elimination using p-values\n",
    "p_val_cutoff = 0.05\n",
    "\n",
    "## WARNING 1: The code below assumes that the Intercept term is present in the model.\n",
    "## WARNING 2: It will work only with main effects and two-way interactions, if any.\n",
    "\n",
    "print('\\nPerforming backwards feature selection using p-values:')\n",
    "\n",
    "while True:\n",
    "\n",
    "    # uncomment the line below if you would like to see the regression summary\n",
    "    # in each step:\n",
    "    ### print(linreg_fit.summary())\n",
    "\n",
    "    pval_series = linreg_fit.pvalues.drop(labels='Intercept')\n",
    "    pval_series = pval_series.sort_values(ascending=False)\n",
    "    term = pval_series.index[0]\n",
    "    pval = pval_series[0]\n",
    "    if (pval < p_val_cutoff):\n",
    "        break\n",
    "    term_components = term.split(':')\n",
    "    print(f'\\nRemoving term \"{term}\" with p-value {pval:.4}')\n",
    "    if (len(term_components) == 1): ## this is a main effect term\n",
    "        patsy_description.rhs_termlist.remove(patsy.Term([patsy.EvalFactor(term_components[0])]))    \n",
    "    else: ## this is an interaction term\n",
    "        patsy_description.rhs_termlist.remove(patsy.Term([patsy.EvalFactor(term_components[0]), \n",
    "                                                        patsy.EvalFactor(term_components[1])]))    \n",
    "        \n",
    "    linreg_fit = smf.ols(formula=patsy_description, data=data_encoded).fit()\n",
    "    \n",
    "###\n",
    "## this is the clean fit after backwards elimination\n",
    "model_reduced_fitted = smf.ols(formula = patsy_description, data = data_encoded).fit()\n",
    "###\n",
    "    \n",
    "#########\n",
    "print(\"\\n***\")\n",
    "print(model_reduced_fitted.summary())\n",
    "print(\"***\")\n",
    "print(f\"Regression number of terms: {len(model_reduced_fitted.model.exog_names)}\")\n",
    "print(f\"Regression F-distribution p-value: {model_reduced_fitted.f_pvalue:.4f}\")\n",
    "print(f\"Regression R-squared: {model_reduced_fitted.rsquared:.4f}\")\n",
    "print(f\"Regression Adjusted R-squared: {model_reduced_fitted.rsquared_adj:.4f}\")"
   ]
  },
  {
   "cell_type": "markdown",
   "id": "ea9b38d4",
   "metadata": {},
   "source": [
    "### Reduced Model Overview"
   ]
  },
  {
   "cell_type": "markdown",
   "id": "ff943e57",
   "metadata": {},
   "source": [
    "Overview of your reduced model, including the variables and terms you are using in your model."
   ]
  },
  {
   "cell_type": "markdown",
   "id": "39b395ee",
   "metadata": {},
   "source": [
    "### Reduced Model Diagnostic Checks"
   ]
  },
  {
   "cell_type": "markdown",
   "id": "2b1f5f62",
   "metadata": {},
   "source": [
    "You need to check whether there are indications of violations of the regression assumptions for the reduced model."
   ]
  },
  {
   "cell_type": "markdown",
   "id": "e0f30c49",
   "metadata": {},
   "source": [
    "## Critique & Limitations <a id='cl'></a>"
   ]
  },
  {
   "cell_type": "markdown",
   "id": "d8fe68b2",
   "metadata": {},
   "source": [
    "A thorough preparation stage was required due to the large amount of missing values. The topic we chose has a lot of unknown or innacurate variables by its nature; this can have not only the effect of decreasing our sample size for statistical modelling, but also skewing our results towards certain data points due to selection bias of the data that is available. For example: a planetary system with a brighter and larger star is likely to have more complete observation data, causing such systems to be overrepresented in our models. \n",
    "\n",
    "Because of the missing values we split up our database into tables categorised by planetary attributes so for example we could use all the planets with available radii predict orbit distance. This structure however, was insufficient when it came to performing a backwards feature selection. We opted for culling data points with relevant missing variable which significantly reduces the sample size and therefor accuracy of our model. "
   ]
  },
  {
   "cell_type": "markdown",
   "id": "427e0dd7",
   "metadata": {},
   "source": [
    "## Summary & Conclusions <a id='sc'></a>"
   ]
  },
  {
   "cell_type": "markdown",
   "id": "30a0df93",
   "metadata": {},
   "source": [
    "### Project Summary"
   ]
  },
  {
   "cell_type": "markdown",
   "id": "1111bc02",
   "metadata": {},
   "source": [
    "A comprehensive summary of your entire project (both Phase 1 and Phase 2). That is, what exactly did you do in your project? (Example: I first cleaned the data in such and such ways. And then I applied multiple linear regression techniques in such and such ways. etc)."
   ]
  },
  {
   "cell_type": "markdown",
   "id": "7a3df152",
   "metadata": {},
   "source": [
    "### Summary of Findings"
   ]
  },
  {
   "cell_type": "markdown",
   "id": "3f1287bc",
   "metadata": {},
   "source": [
    "A comprehensive summary of your findings. That is, what exactly did you find about your particular problem?"
   ]
  },
  {
   "cell_type": "markdown",
   "id": "86265bf4",
   "metadata": {},
   "source": [
    "### Conclusions"
   ]
  },
  {
   "cell_type": "markdown",
   "id": "4f8c0986",
   "metadata": {},
   "source": [
    "Your detailed conclusions as they relate to your goals and objectives."
   ]
  },
  {
   "cell_type": "code",
   "execution_count": null,
   "id": "6f973f58",
   "metadata": {},
   "outputs": [],
   "source": []
  }
 ],
 "metadata": {
  "kernelspec": {
   "display_name": "Python 3 (ipykernel)",
   "language": "python",
   "name": "python3"
  },
  "language_info": {
   "codemirror_mode": {
    "name": "ipython",
    "version": 3
   },
   "file_extension": ".py",
   "mimetype": "text/x-python",
   "name": "python",
   "nbconvert_exporter": "python",
   "pygments_lexer": "ipython3",
   "version": "3.9.6"
  }
 },
 "nbformat": 4,
 "nbformat_minor": 5
}
