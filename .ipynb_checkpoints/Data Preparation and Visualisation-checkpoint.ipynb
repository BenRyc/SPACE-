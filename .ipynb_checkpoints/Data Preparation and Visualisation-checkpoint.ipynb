{
 "cells": [
  {
   "cell_type": "markdown",
   "id": "032f4f0b",
   "metadata": {},
   "source": [
    "# <font color='black'>Finding key factors that predict an exoplanet's distance from its host star</font> <a id='q1'></a>\n",
    "\n",
    "### <font color='black'>Group Name: SPACE!</font> <a id='q1'></a>\n",
    "Ben Rycroft (s3947135)\n",
    "\n",
    "Rita Lam Cordeiro (s3471881)\n",
    "\n",
    "### <font color='black'>Introduction</font> <a id='q1'></a>\n",
    "\n",
    "**Dataset Source**\n",
    "\n",
    "The NASA Exoplanet archive compiles data on all known exoplanets and their host stars including exoplanet parameters, stellar parameters and and discovery/characterization data\n",
    "\n",
    "\n",
    "**Dataset Details**\n",
    "\n",
    "Each row in the dataet represents an exoplanet. This dataset has _ columns: "
   ]
  },
  {
   "cell_type": "code",
   "execution_count": 2,
   "id": "66e476e0",
   "metadata": {},
   "outputs": [],
   "source": [
    "import warnings\n",
    "warnings.filterwarnings(\"ignore\")\n",
    "\n",
    "import numpy as np\n",
    "import pandas as pd\n",
    "import io\n",
    "import requests\n",
    "\n",
    "pd.set_option('display.max_columns', None) \n",
    "\n",
    "###\n",
    "import matplotlib.pyplot as plt\n",
    "import seaborn as sns\n",
    "%matplotlib inline \n",
    "%config InlineBackend.figure_format = 'retina'\n",
    "plt.style.use(\"seaborn\")\n",
    "###"
   ]
  },
  {
   "cell_type": "code",
   "execution_count": 9,
   "id": "c136bf27",
   "metadata": {},
   "outputs": [],
   "source": [
    "#naming the dataset\n",
    "df = pd.read_csv(\"https://raw.githubusercontent.com/BenRyc/SPACE-/main/orbitDistNoLim.csv\")"
   ]
  },
  {
   "cell_type": "markdown",
   "id": "923b6b23",
   "metadata": {},
   "source": [
    "## Data Cleaning and Preprocessing\n",
    "Preparing the data for modelling\n",
    "\n",
    "### Step 1\n",
    "The https://exoplanetarchive.ipac.caltech.edu site where the data was colected from required us to specify what columns of the larger dataset that we needed to download. We only selected the relevent columns that we wanted to investegate and we also excluded datapoints like names of planets and stars. \n",
    "\n",
    "### Step 2 \n",
    "Here are the columns of the dataset"
   ]
  },
  {
   "cell_type": "code",
   "execution_count": 8,
   "id": "d7a1ef60",
   "metadata": {},
   "outputs": [
    {
     "data": {
      "text/plain": [
       "Index(['sy_snum', 'sy_pnum', 'discoverymethod', 'pl_orbper', 'pl_orbpererr1',\n",
       "       'pl_orbpererr2', 'pl_orbsmax', 'pl_orbsmaxerr1', 'pl_orbsmaxerr2',\n",
       "       'pl_rade', 'pl_radeerr1', 'pl_radeerr2', 'pl_masse', 'pl_masseerr1',\n",
       "       'pl_masseerr2', 'pl_dens', 'pl_denserr1', 'pl_denserr2', 'pl_orbeccen',\n",
       "       'pl_orbeccenerr1', 'pl_orbeccenerr2', 'pl_insol', 'pl_insolerr1',\n",
       "       'pl_insolerr2', 'pl_eqt', 'pl_eqterr1', 'pl_eqterr2', 'pl_eqtlim',\n",
       "       'st_spectype', 'st_teff', 'st_tefferr1', 'st_tefferr2', 'st_rad',\n",
       "       'st_raderr1', 'st_raderr2', 'st_mass', 'st_masserr1', 'st_masserr2',\n",
       "       'st_met', 'st_meterr1', 'st_meterr2', 'st_metlim', 'st_logg',\n",
       "       'st_loggerr1', 'st_loggerr2', 'st_age', 'st_ageerr1', 'st_ageerr2',\n",
       "       'st_agelim', 'st_dens', 'st_denserr1', 'st_denserr2', 'sy_dist',\n",
       "       'sy_disterr1', 'sy_disterr2'],\n",
       "      dtype='object')"
      ]
     },
     "execution_count": 8,
     "metadata": {},
     "output_type": "execute_result"
    }
   ],
   "source": [
    "df.columns"
   ]
  },
  {
   "cell_type": "markdown",
   "id": "b494ae7a",
   "metadata": {},
   "source": [
    "There are many different verables that we intend to compair to orbit and not every row has values for every column this is why I decided to split the dataset into lots of smaller datasets each only compairing one verable against the orbit radius. This way I can remove all the rows with null values from each of the datasubsets without removing the rows from other datasubsets. "
   ]
  },
  {
   "cell_type": "code",
   "execution_count": 11,
   "id": "91e3387f",
   "metadata": {},
   "outputs": [],
   "source": [
    "rad = df.dropna(subset=['pl_rade', 'pl_radeerr1', 'pl_radeerr2'])\n",
    "mass = df.dropna(subset=['pl_masse', 'pl_masseerr1', 'pl_masseerr2'])\n",
    "dens = df.dropna(subset=['pl_dens', 'pl_denserr1', 'pl_denserr2'])\n",
    "orbeccen = df.dropna(subset=['pl_orbeccen', 'pl_orbeccenerr1', 'pl_orbeccenerr2'])\n",
    "insol = df.dropna(subset=['pl_insol', 'pl_insolerr1', 'pl_insolerr2'])\n",
    "eqt = df.dropna(subset=['pl_eqt', 'pl_eqterr1', 'pl_eqterr2'])\n",
    "teff = df.dropna(subset=['st_teff', 'st_tefferr1', 'st_tefferr2'])\n",
    "radst = df.dropna(subset=['st_rad', 'st_raderr1', 'st_raderr2'])\n",
    "massst = df.dropna(subset=['st_mass', 'st_masserr1', 'st_masserr2'])\n",
    "met = df.dropna(subset=['st_met', 'st_meterr1', 'st_meterr2'])\n",
    "agest = df.dropna(subset=['st_age', 'st_ageerr1', 'st_ageerr2'])"
   ]
  },
  {
   "cell_type": "markdown",
   "id": "228150cc",
   "metadata": {},
   "source": [
    "### Step 3 \n",
    "Next was to only inclued the relevent columns in each datasubset"
   ]
  },
  {
   "cell_type": "code",
   "execution_count": 12,
   "id": "4b7a418d",
   "metadata": {},
   "outputs": [],
   "source": [
    "rad = rad[['pl_rade', 'pl_radeerr1', 'pl_radeerr2', 'pl_orbper', 'pl_orbpererr1', 'pl_orbpererr2', 'pl_orbsmax', 'pl_orbsmaxerr1', 'pl_orbsmaxerr2']]\n",
    "mass = mass[['pl_masse', 'pl_masseerr1', 'pl_masseerr2', 'pl_orbper', 'pl_orbpererr1', 'pl_orbpererr2', 'pl_orbsmax', 'pl_orbsmaxerr1', 'pl_orbsmaxerr2']]\n",
    "dens = dens[['pl_dens', 'pl_denserr1', 'pl_denserr2', 'pl_orbper', 'pl_orbpererr1', 'pl_orbpererr2', 'pl_orbsmax', 'pl_orbsmaxerr1', 'pl_orbsmaxerr2']]\n",
    "orbeccen = orbeccen[['pl_orbeccen', 'pl_orbeccenerr1', 'pl_orbeccenerr2', 'pl_orbper', 'pl_orbpererr1', 'pl_orbpererr2', 'pl_orbsmax', 'pl_orbsmaxerr1', 'pl_orbsmaxerr2']]\n",
    "insol = insol[['pl_insol', 'pl_insolerr1', 'pl_insolerr2', 'pl_orbper', 'pl_orbpererr1', 'pl_orbpererr2', 'pl_orbsmax', 'pl_orbsmaxerr1', 'pl_orbsmaxerr2']]\n",
    "eqt = eqt[['pl_eqt', 'pl_eqterr1', 'pl_eqterr2', 'pl_orbper', 'pl_orbpererr1', 'pl_orbpererr2', 'pl_orbsmax', 'pl_orbsmaxerr1', 'pl_orbsmaxerr2']]\n",
    "teff = teff[['st_teff', 'st_tefferr1', 'st_tefferr2', 'pl_orbper', 'pl_orbpererr1', 'pl_orbpererr2', 'pl_orbsmax', 'pl_orbsmaxerr1', 'pl_orbsmaxerr2']]\n",
    "radst = radst[['st_rad', 'st_raderr1', 'st_raderr2', 'pl_orbper', 'pl_orbpererr1', 'pl_orbpererr2', 'pl_orbsmax', 'pl_orbsmaxerr1', 'pl_orbsmaxerr2']]\n",
    "massst = massst[['st_mass', 'st_masserr1', 'st_masserr2', 'pl_orbper', 'pl_orbpererr1', 'pl_orbpererr2', 'pl_orbsmax', 'pl_orbsmaxerr1', 'pl_orbsmaxerr2']]\n",
    "met = met[['st_met', 'st_meterr1', 'st_meterr2', 'pl_orbper', 'pl_orbpererr1', 'pl_orbpererr2', 'pl_orbsmax', 'pl_orbsmaxerr1', 'pl_orbsmaxerr2']]\n",
    "agest = agest[['st_age', 'st_ageerr1', 'st_ageerr2', 'pl_orbper', 'pl_orbpererr1', 'pl_orbpererr2', 'pl_orbsmax', 'pl_orbsmaxerr1', 'pl_orbsmaxerr2']]\n"
   ]
  },
  {
   "cell_type": "code",
   "execution_count": null,
   "id": "ab189840",
   "metadata": {},
   "outputs": [],
   "source": []
  }
 ],
 "metadata": {
  "kernelspec": {
   "display_name": "Python 3 (ipykernel)",
   "language": "python",
   "name": "python3"
  },
  "language_info": {
   "codemirror_mode": {
    "name": "ipython",
    "version": 3
   },
   "file_extension": ".py",
   "mimetype": "text/x-python",
   "name": "python",
   "nbconvert_exporter": "python",
   "pygments_lexer": "ipython3",
   "version": "3.9.2"
  }
 },
 "nbformat": 4,
 "nbformat_minor": 5
}
